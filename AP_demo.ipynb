{
 "cells": [
  {
   "cell_type": "code",
   "execution_count": null,
   "id": "01b533ee",
   "metadata": {},
   "outputs": [],
   "source": [
    "import torch\n",
    "import numpy as np\n",
    "\n",
    "import torchvision\n",
    "import torchvision.transforms as transforms\n",
    "from torch.utils.data import DataLoader, Subset"
   ]
  },
  {
   "cell_type": "code",
   "execution_count": 2,
   "id": "4abb2566",
   "metadata": {},
   "outputs": [],
   "source": [
    "\n",
    "def rand_sparse_matrix(rows, cols, connection_rate):\n",
    "\n",
    "    assert 0 < connection_rate <= 1, \"The connection rate must be between (0,1]\"\n",
    "\n",
    "    # Calculate the number of non-zero elements\n",
    "    num_elements = rows * cols\n",
    "    num_nonzero = int(num_elements * connection_rate)\n",
    "\n",
    "    # Randomly generate the position of non-zero elements\n",
    "    row_indices = torch.randint(0, rows, (num_nonzero,))\n",
    "    col_indices = torch.randint(0, cols, (num_nonzero,))\n",
    "\n",
    "    # Stack row and column indices into a two-dimensional tensor\n",
    "    indices = torch.stack((row_indices, col_indices))\n",
    "\n",
    "    # Randomly generate values for non-zero elements\n",
    "    values = torch.rand(num_nonzero)*2-1\n",
    "\n",
    "    # Create Sparse Matrix\n",
    "    sparse_matrix = torch.sparse_coo_tensor(indices, values, (rows, cols))\n",
    "\n",
    "    return sparse_matrix\n",
    "\n",
    "\n",
    "def Aindx2Nrange(numnodes, div, Aindx):\n",
    "    node_indx = []\n",
    "    nodes_per_div = numnodes // abs(div)\n",
    "    if isinstance(Aindx, list) == False: Aindx = [Aindx]\n",
    "\n",
    "    for indx in Aindx:\n",
    "        # Calculate the start and end indices for the specified division\n",
    "        start_idx = (indx-1) * nodes_per_div\n",
    "        end_idx = indx * nodes_per_div - 1\n",
    "        \n",
    "        # Create the output range\n",
    "        node_indx.extend(range(start_idx, end_idx + 1))\n",
    "\n",
    "\n",
    "    return node_indx\n",
    "\n",
    "\n",
    "def adam_update(m, v, dw, beta1, beta2, t, epsilon=1e-8):\n",
    "    # Update first-order moment estimation\n",
    "    m = beta1 * m + (1 - beta1) * dw\n",
    "    v = beta2 * v + (1 - beta2) * (dw ** 2)\n",
    "    \n",
    "    # First and Second Order Moment Estimation for Deviation Correction Calculation\n",
    "    m_corr = m / (1 - beta1 ** t)\n",
    "    v_corr = v / (1 - beta2 ** t)\n",
    "    \n",
    "    # Calculate update value\n",
    "    update = m_corr / (torch.sqrt(v_corr) + epsilon)\n",
    "    \n",
    "    return update, m, v\n",
    "\n",
    "def linear(x):\n",
    "    return x\n",
    "\n",
    "def linear_d(x):\n",
    "    return torch.ones_like(x)\n",
    "\n",
    "def tanh(x):\n",
    "    return torch.tanh(x)\n",
    "\n",
    "def tanh_d(x):\n",
    "    return 1 - torch.tanh(x) ** 2  \n",
    "\n",
    "def hard_sigmoid(x):\n",
    "    return torch.clamp(x,0,1)\n",
    "\n",
    "def hard_sigmoid_d(x):\n",
    "    return torch.where((x >= 0) & (x <= 1), torch.ones_like(x), torch.zeros_like(x))\n",
    "\n",
    "def relu6(x):\n",
    "    return torch.max(torch.min(x, torch.ones_like(x) * 6), torch.zeros_like(x))  \n",
    "\n",
    "def relu6_d(x):\n",
    "    return torch.where((x > 0) & (x <= 6), torch.ones_like(x), torch.zeros_like(x))\n",
    "\n",
    "def softmax(x):\n",
    "    x = x - torch.max(x, dim=1, keepdim=True)[0]  # Subtract the maximum value to prevent overflow\n",
    "    return torch.exp(x) / torch.sum(torch.exp(x), dim=1, keepdim=True)\n",
    "\n",
    "\n",
    "\n",
    "# One-hot \n",
    "def one_hot(labels, n_out):\n",
    "    one_hot_labels = torch.zeros(labels.size(0), n_out)\n",
    "    one_hot_labels[torch.arange(labels.size(0)), labels] = 1\n",
    "    return one_hot_labels\n",
    "\n",
    "def cross_entropy_loss(output, target):\n",
    "    epsilon = 1e-8  # avoid log(0)\n",
    "    output = torch.clamp(output, epsilon, 1. - epsilon)  # Limit the output to [epsilon, 1-epsilon] \n",
    "    return -torch.mean(torch.sum(target * torch.log(output), dim=1))\n"
   ]
  },
  {
   "cell_type": "code",
   "execution_count": 3,
   "id": "5963c616",
   "metadata": {},
   "outputs": [],
   "source": [
    "def dataset(config):\n",
    "    ## Dataset\n",
    "    transform = transforms.Compose([\n",
    "        transforms.ToTensor(),  # \n",
    "    ])\n",
    "\n",
    "    if config.train_task == \"FMNIST\" :\n",
    "        config.train_eta_global = 10e-4\n",
    "        train_dataset = torchvision.datasets.FashionMNIST(root='./data', train=True, transform=transform, download=True)\n",
    "        test_dataset = torchvision.datasets.FashionMNIST(root='./data', train=False, transform=transform)\n",
    "    elif config.train_task == \"MNIST\":\n",
    "        config.train_eta_global = 10e-4\n",
    "        train_dataset = torchvision.datasets.MNIST(root='./data', train=True, transform=transform, download=True)\n",
    "        test_dataset = torchvision.datasets.MNIST(root='./data', train=False, transform=transform)\n",
    "    elif config.train_task == \"CIFAR10\":\n",
    "        config.train_eta_global = 2e-4\n",
    "        config.n_input = 32*32*3\n",
    "        train_dataset = torchvision.datasets.CIFAR10(root='./data', train=True, transform=transform, download=True)\n",
    "        test_dataset = torchvision.datasets.CIFAR10(root='./data', train=False, transform=transform)\n",
    "    elif config.train_task == \"CIFAR100\":\n",
    "        config.train_eta_global = 2e-4\n",
    "        config.n_input = 32*32*3\n",
    "        config.n_out = 100\n",
    "        train_dataset = torchvision.datasets.CIFAR100(root='./data', train=True, transform=transform, download=True)\n",
    "        test_dataset = torchvision.datasets.CIFAR100(root='./data', train=False, transform=transform)\n",
    "\n",
    "    train_loader = DataLoader(dataset=train_dataset, batch_size=config.train_batch_size, shuffle=True)\n",
    "    test_loader = DataLoader(dataset=test_dataset, batch_size=config.train_batch_size, shuffle=False)\n",
    "    return train_loader,test_loader,config\n"
   ]
  },
  {
   "cell_type": "code",
   "execution_count": 4,
   "id": "e393a702",
   "metadata": {},
   "outputs": [],
   "source": [
    "class FRNN_LN(torch.nn.Module):\n",
    "    def __init__(self, config):\n",
    "        super(FRNN_LN, self).__init__()\n",
    "        # \n",
    "        self.device = config.device if hasattr(config, 'device') else torch.device('cuda' if torch.cuda.is_available() else 'cpu') \n",
    "\n",
    "        self.n_input = config.n_input   # input size\n",
    "        self.n_out = config.n_out       # number of classes\n",
    "\n",
    "        self.nL_hidd = config.nL_hidd   # num of hidden layers\n",
    "        self.n_hidd = config.n_hidd     # num of neurons in hidden layers\n",
    "        self.n_NperU = config.n_NperU   # num of nodes per block (RE, SE, RI, SI) per layer\n",
    "        self.n_NU = config.n_NU  \n",
    "        self.n_RE = config.n_RE if hasattr(config, 'n_RE') else -1 # num of RE neuron in hidden layers\n",
    "        self.n_SE = config.n_SE if hasattr(config, 'n_SE') else -1 # num of SE neuron in hidden layers\n",
    "        self.f = config.f if hasattr(config, 'f') else tanh\n",
    "        self.fd = config.fd if hasattr(config, 'fd') else tanh_d\n",
    "\n",
    "        self.RNN_CR = config.RNN_CR if hasattr(config, 'RNN_CR') else 1 # RNN connection rate\n",
    "        self.RNN_SR = config.RNN_SR if hasattr(config, 'RNN_SR') else 0.25 # Spectral radius of RNN weights\n",
    "\n",
    "        self.RNN_t2sta = config.RNN_t2sta if hasattr(config, 'RNN_t2sta') else 8 # The number of iterations to stability (inference phase)\n",
    "        self.RNN_t2sta2 = config.RNN_t2sta2 if hasattr(config, 'RNN_t2sta2') else 8 # The number of iterations to stability (training phase) \n",
    "\n",
    "        self.train_tmethod = config.train_tmethod if hasattr(config, 'train_tmethod') else 'AP' \n",
    "        self.train_batch_size = config.train_batch_size if hasattr(config, 'train_batch_size') else 1 # batch size\n",
    "        self.train_lambda1 = config.train_lambda1 if hasattr(config, 'train_lambda1') else 0    # L2 regularization\n",
    "        self.train_task = config.train_task\n",
    "        self.train_fbupdaterule = config.train_fbupdaterule if hasattr(config, 'train_fbupdaterule') else 'ee'\n",
    "\n",
    "        self.flag_feedbackLearning = config.flag_feedbackLearning  if hasattr(config, 'flag_feedbackLearning') else False # wheather the feedback weights are updated\n",
    "        self.flag_RNNLearning = config.flag_RNNLearning  if hasattr(config, 'flag_RNNLearning') else False # wheather the RNN internal weights are updated\n",
    "        self.flag_RNNBiasLearning = config.flag_RNNBiasLearning  if hasattr(config, 'flag_RNNBiasLearning') else False # wheather the RNN bias are updated\n",
    "\n",
    "        self.RNN_alpha1 = config.RNN_alpha1   if hasattr(config, 'RNN_alpha1') else 0 # the RNN internal weights updating factor\n",
    "        self.flag_ycz = config.flag_ycz if hasattr(config, 'flag_ycz') else False # False: STE, True: EPE\n",
    "        \n",
    "        self.factor_gamma1 = config.factor_gamma1  if hasattr(config, 'factor_gamma1') else 0 # the factor of feedback weights updated : 0< 1e-3  <0.1\n",
    "        # if self.n_NU<0: self.n_hidd = -config.n_NperU * config.n_NU\n",
    "        # else: self.n_hidd = config.n_NperU * config.n_NU\n",
    "\n",
    "        \n",
    "        self.sc_forward = config.sc_forward if hasattr(config, 'sc_forward') else 1 # additional feedforward scaling\n",
    "        self.sc_forward_f = config.sc_forward_f if hasattr(config, 'sc_forward_f') else 1 # additional feedforward scaling at final layer\n",
    "        self.sc_bias = config.sc_bias if hasattr(config, 'sc_bias') else 1 # RNN bias scaling\n",
    "        self.sc_back = config.sc_back if hasattr(config, 'sc_back') else 1  # additional feedback scaling\n",
    "        self.sc_back_f = config.sc_back_f  if hasattr(config, 'sc_back_f') else 1 # additional feedback scaling at final layer\n",
    "\n",
    "        # self.factor_beta1 = config.factor_beta1 \n",
    "\n",
    "\n",
    "\n",
    "        self.WinX = ( torch.rand(self.n_input, self.n_NperU, device=self.device)*2-1) * self.sc_forward * 1.0/np.sqrt(self.n_input)  # in\n",
    "        self.Win, self.Wb = [], []\n",
    "        for i in range(self.nL_hidd-1):\n",
    "            self.Win.append( (torch.rand(self.n_NperU, self.n_NperU, device=self.device)*2-1)* self.sc_forward * 1.0/np.sqrt(self.n_NperU) )   \n",
    "            self.Wb.append( (torch.rand(self.n_NperU, self.n_NperU, device=self.device)*2-1) * self.sc_back * 1.0/np.sqrt(self.n_NperU) )   \n",
    "        \n",
    "        self.Wr, self.Wr_s, self.bias_rnn = [], [], []\n",
    "        for i in range(self.nL_hidd):\n",
    "            self.Wr.append(self.initialize_Wr().to(self.device))\n",
    "            self.Wr_s.append(self.Wr[i] != 0)\n",
    "            self.bias_rnn.append(torch.zeros(self.n_hidd, device=self.device))\n",
    "\n",
    "        self.W_f = (torch.rand(self.n_NperU, self.n_out, device=self.device)*2-1) * self.sc_forward_f * 1.0/np.sqrt(self.n_NperU) \n",
    "        self.bias_f = (torch.rand(self.n_out, device=self.device)*2-1) * self.sc_bias * 1.0/np.sqrt(self.n_NperU) \n",
    "        self.Wb_f = (torch.rand(self.n_out, self.n_NperU, device=self.device)*2-1)* self.sc_back_f * 1.0/np.sqrt(self.n_out) \n",
    "\n",
    "        # Adam\n",
    "        self.opt_m_WinX = torch.zeros_like(self.WinX, device=self.device)\n",
    "        self.opt_v_WinX = torch.zeros_like(self.WinX, device=self.device)\n",
    "\n",
    "        self.opt_m_Wb_f = torch.zeros_like(self.Wb_f, device=self.device)\n",
    "        self.opt_v_Wb_f = torch.zeros_like(self.Wb_f, device=self.device)\n",
    "\n",
    "        self.opt_m_Win = [torch.zeros_like(w, device=self.device) for w in self.Win]\n",
    "        self.opt_v_Win = [torch.zeros_like(w, device=self.device) for w in self.Win]\n",
    "\n",
    "        self.opt_m_Wb = [torch.zeros_like(w, device=self.device) for w in self.Wb]\n",
    "        self.opt_v_Wb = [torch.zeros_like(w, device=self.device) for w in self.Wb]\n",
    "\n",
    "        self.opt_m_Wr = [torch.zeros_like(w, device=self.device) for w in self.Wr]\n",
    "        self.opt_v_Wr = [torch.zeros_like(w, device=self.device) for w in self.Wr]\n",
    "\n",
    "        self.opt_m_b = [torch.zeros_like(b, device=self.device) for b in self.bias_rnn]\n",
    "        self.opt_v_b = [torch.zeros_like(b, device=self.device) for b in self.bias_rnn]\n",
    "\n",
    "        self.opt_m_Wout = torch.zeros_like(self.W_f, device=self.device)\n",
    "        self.opt_v_Wout = torch.zeros_like(self.W_f, device=self.device)\n",
    "        self.opt_m_bias_f = torch.zeros_like(self.bias_f, device=self.device)\n",
    "        self.opt_v_bias_f = torch.zeros_like(self.bias_f, device=self.device)\n",
    "\n",
    "        self.opt_beta1 = 0.9\n",
    "        self.opt_beta2 = 0.999\n",
    "        self.opt_epsilon = 1e-8\n",
    "        self.opt_eta = config.train_eta_global\n",
    "        self.opt_t = 0\n",
    "\n",
    "        # \n",
    "        self.z = [torch.zeros(self.train_batch_size, b.size(0), device=self.device) for b in self.bias_rnn]\n",
    "        self.y = [torch.zeros(self.train_batch_size, b.size(0), device=self.device) for b in self.bias_rnn]\n",
    "        self.e = [torch.zeros(self.train_batch_size, b.size(0), device=self.device) for b in self.bias_rnn]\n",
    "\n",
    "        self.dWr = [torch.zeros_like(w, device=self.device) for w in self.Wr]\n",
    "        self.dbias = [torch.zeros_like(b, device=self.device) for b in self.bias_rnn]\n",
    "\n",
    "        self.dWin = [torch.zeros_like(w, device=self.device) for w in self.Win]\n",
    "        self.dWb = [torch.zeros_like(w, device=self.device) for w in self.Wb]\n",
    "\n",
    "        self.alpha = torch.ones([self.nL_hidd+1])\n",
    "        if self.train_tmethod == 'AP':\n",
    "            self.forward = self.forward_AP \n",
    "            self.backward = self.backward_AP\n",
    "            self.factor_beta1 = config.factor_beta1 if hasattr(config, 'factor_beta1') else 1\n",
    "            self.flag_feedbackLearning = config.flag_feedbackLearning if hasattr(config, 'flag_feedbackLearning') else False\n",
    "            self.flag_FNN  = config.flag_FNN if hasattr(config, 'flag_FNN') else False\n",
    "\n",
    "\n",
    "    #\n",
    "    def initialize_Wr(self):\n",
    "        Wr = rand_sparse_matrix(self.n_hidd, self.n_hidd, self.RNN_CR).to_dense()\n",
    "        Wr = Wr / torch.abs( torch.linalg.eigvals(Wr)) .max() * self.RNN_SR\n",
    "        return Wr\n",
    "    \n",
    "    ##\n",
    "    def forward_AP(self, x):\n",
    "        x = x.to(self.device)  \n",
    "        self.z = [torch.zeros(x.size(0), b.size(0), device=self.device) for b in self.bias_rnn]\n",
    "        self.cbias = [torch.zeros(x.size(0), b.size(0), device=self.device) for b in self.bias_rnn]\n",
    "\n",
    "        for i in range(0, self.nL_hidd):\n",
    "            if i==0:\n",
    "                self.cbias[0][:, Aindx2Nrange(self.n_hidd, self.n_NU, 1)] = x.mm(self.WinX)\n",
    "            else:\n",
    "                self.cbias[i][:, Aindx2Nrange(self.n_hidd, self.n_NU, 1)] = self.z[i-1][:, Aindx2Nrange(self.n_hidd, self.n_NU, 2)].mm(self.Win[i-1])\n",
    "\n",
    "            if self.flag_FNN:\n",
    "                self.z[i] = self.f( self.bias_rnn[i] + self.cbias[i] )\n",
    "            else:\n",
    "                self.z[i] = self.It2staFout(self.Wr[i], self.z[i], self.bias_rnn[i] + self.cbias[i], self.RNN_t2sta)\n",
    "\n",
    "        self.zfh = self.z[-1][:, Aindx2Nrange(self.n_hidd, self.n_NU, 2)].mm(self.W_f) + self.bias_f\n",
    "        self.zf = softmax(self.zfh)\n",
    "        return self.zf\n",
    "\n",
    "    \n",
    "    def backward_AP(self, x, y, output):\n",
    "        x = x.to(self.device)\n",
    "        y = y.to(self.device)\n",
    "        output = output.to(self.device)\n",
    "        \n",
    "        #\n",
    "        if self.flag_ycz == True : self.y = [z for z in self.z]\n",
    "        else: self.y = [torch.zeros_like(z, device=self.device) for z in self.z]\n",
    "        for i in range(self.nL_hidd-1, -1, -1):\n",
    "            if i == self.nL_hidd-1:\n",
    "                self.e_f = output - y  # dz3\n",
    "                self.dWout = self.z[self.nL_hidd-1][:, Aindx2Nrange(self.n_hidd, self.n_NU, 2)].t().mm(self.e_f) / self.train_batch_size\n",
    "                self.dbias_f = self.e_f.sum(0) / self.train_batch_size\n",
    "                vt = -self.factor_beta1 * self.e_f.mm(self.Wb_f)\n",
    "                if  self.n_RE>-0.1: vt[:,self.n_RE:] = 0\n",
    "                self.cbias[self.nL_hidd-1][:, Aindx2Nrange(self.n_hidd, self.n_NU, 3)] += vt\n",
    "            else:\n",
    "                self.dWin[i] = self.z[i][:, Aindx2Nrange(self.n_hidd, self.n_NU, 2)].t().mm(self.e[i+1][:, Aindx2Nrange(self.n_hidd, self.n_NU, 1)]) / self.train_batch_size\n",
    "                vt = self.e[i+1][:, Aindx2Nrange(self.n_hidd, self.n_NU, 4)]\n",
    "                if  self.n_SE>-0.1: vt[:,self.n_SE:] = 0\n",
    "                vt = -self.factor_beta1 * vt.mm(self.Wb[i])\n",
    "                if  self.n_RE>-0.1: vt[:,self.n_RE:] = 0\n",
    "                self.cbias[i][:, Aindx2Nrange(self.n_hidd, self.n_NU, 3)] += vt\n",
    "            \n",
    "            if self.flag_FNN:\n",
    "                self.y[i] = self.f( self.bias_rnn[i] + self.cbias[i] )\n",
    "            else:\n",
    "                self.y[i] = self.It2staFout(self.Wr[i], self.y[i], self.bias_rnn[i] + self.cbias[i], self.RNN_t2sta2)\n",
    "\n",
    "            self.e[i] = self.z[i] - self.y[i]\n",
    "            self.dWr[i] = self.z[i].t().mm(self.e[i]) / self.train_batch_size\n",
    "            self.dbias[i] = self.e[i].sum(0) / self.train_batch_size\n",
    "\n",
    "        self.dWinX = x.t().mm(self.e[0][:, Aindx2Nrange(self.n_hidd, self.n_NU, 1)]) / self.train_batch_size\n",
    "\n",
    "        \n",
    "    def update_weights_adam(self):\n",
    "        self.opt_t += 1\n",
    "\n",
    "        dWinX, self.opt_m_WinX, self.opt_v_WinX   = adam_update(self.opt_m_WinX, self.opt_v_WinX, self.dWinX, self.opt_beta1, self.opt_beta2, self.opt_t)\n",
    "        self.WinX -= self.opt_eta * self.alpha[0] * dWinX #+ self.WinX * self.train_lambda1 \n",
    "\n",
    "        for i in range(self.nL_hidd-2, -1, -1):\n",
    "            dWin, self.opt_m_Win[i], self.opt_v_Win[i]      = adam_update(self.opt_m_Win[i], self.opt_v_Win[i],   self.dWin[i], self.opt_beta1, self.opt_beta2, self.opt_t)\n",
    "            self.Win[i] -= self.opt_eta * self.alpha[i+1] * dWin #+ self.Win[i] * self.train_lambda1 \n",
    "\n",
    "\n",
    "        dWout, self.opt_m_Wout, self.opt_v_Wout    = adam_update(self.opt_m_Wout, self.opt_v_Wout, self.dWout, self.opt_beta1, self.opt_beta2, self.opt_t)\n",
    "        self.W_f -= self.opt_eta * self.alpha[-1] * dWout #+ self.W_f * self.train_lambda1 \n",
    "\n",
    "\n",
    "        if self.flag_RNNLearning: \n",
    "            for i in range(0, self.nL_hidd):\n",
    "                dWr, self.opt_m_Wr[i], self.opt_v_Wr[i]       = adam_update(self.opt_m_Wr[i], self.opt_v_Wr[i],     self.dWr[i], self.opt_beta1, self.opt_beta2, self.opt_t)\n",
    "                self.Wr[i] -= self.opt_eta * dWr * self.Wr_s[i] * self.RNN_alpha1 + self.Wr[i] * self.train_lambda1 \n",
    "\n",
    "            \n",
    "        if self.flag_RNNBiasLearning:\n",
    "            for i in range(0, self.nL_hidd):\n",
    "                dbias, self.opt_m_b[i], self.opt_v_b[i]   = adam_update(self.opt_m_b[i], self.opt_v_b[i],       self.dbias[i], self.opt_beta1, self.opt_beta2, self.opt_t)\n",
    "                self.bias_rnn[i] -= self.opt_eta * self.alpha[i] * dbias + self.bias_rnn[i] * self.train_lambda1\n",
    "\n",
    "            dbias_f, self.opt_m_bias_f, self.opt_v_bias_f    = adam_update(self.opt_m_bias_f, self.opt_v_bias_f, self.dbias_f, self.opt_beta1, self.opt_beta2, self.opt_t)\n",
    "            self.bias_f -= self.opt_eta * self.alpha[-1] * dbias_f #+ self.bias_f * self.train_lambda1 \n",
    "\n",
    "        if self.flag_feedbackLearning: \n",
    "            for i in range(self.nL_hidd-2, -1, -1):\n",
    "                dWb, self.opt_m_Wb[i], self.opt_v_Wb[i]    = adam_update(self.opt_m_Wb[i], self.opt_v_Wb[i], self.dWb[i], self.opt_beta1, self.opt_beta2, self.opt_t)\n",
    "                self.Wb[i] += self.opt_eta * self.factor_gamma1  * dWb #+ self.Wb[i] * self.train_lambda1 \n",
    "                \n",
    "            dWb_f, self.opt_m_Wb_f, self.opt_v_Wb_f    = adam_update(self.opt_m_Wb_f, self.opt_v_Wb_f, self.dWb_f, self.opt_beta1, self.opt_beta2, self.opt_t)\n",
    "            self.Wb_f += self.opt_eta * self.factor_gamma1 * dWb_f #+ self.Wb_f * self.train_lambda1 \n",
    "\n",
    "        return self.Wr\n",
    "    \n",
    "    ##    \n",
    "    def update_weights(self):\n",
    "        self.opt_t += 1\n",
    "\n",
    "        self.WinX -= self.opt_eta * self.alpha[0] * self.dWinX #+ self.WinX * self.train_lambda1 \n",
    "\n",
    "        for i in range(self.nL_hidd-2, -1, -1):\n",
    "            self.Win[i] -= self.opt_eta  * self.alpha[i+1] * self.dWin[i] #+ self.Win[i] * self.train_lambda1 \n",
    "\n",
    "\n",
    "        self.W_f -= self.opt_eta  * self.alpha[-1] * self.dWout #+ self.W_f * self.train_lambda1 \n",
    "\n",
    "        if self.flag_RNNLearning: \n",
    "            for i in range(0, self.nL_hidd):\n",
    "                self.Wr[i] -= self.opt_eta * self.dWr[i] * self.Wr_s[i] * self.RNN_alpha1 + self.Wr[i] * self.train_lambda1 \n",
    "\n",
    "            \n",
    "        if self.flag_RNNBiasLearning:\n",
    "            for i in range(0, self.nL_hidd):\n",
    "                self.bias_rnn[i] -= self.opt_eta *  self.dbias[i] + self.bias_rnn[i] * self.train_lambda1\n",
    "\n",
    "            self.bias_f -= self.opt_eta * self.dbias_f #+ self.bias_f * self.train_lambda1 \n",
    "\n",
    "        if self.flag_feedbackLearning: \n",
    "            for i in range(self.nL_hidd-2, -1, -1):\n",
    "                self.Wb[i] += self.opt_eta * self.factor_gamma1  * self.dWb[i] #+ self.Wb[i] * self.train_lambda1 \n",
    "                \n",
    "            self.Wb_f += self.opt_eta * self.factor_gamma1 * self.dWb_f #+ self.Wb_f * self.train_lambda1 \n",
    "\n",
    "        return self.Wr\n",
    "    \n",
    "\n",
    "    def It2staFout(self, Wr, h, bias, itsta):\n",
    "        # h = torch.zeros_like(bias,device=self.device)\n",
    "        for indx in range(itsta):\n",
    "            h = self.f(h.mm(Wr)+bias)\n",
    "        \n",
    "        return h\n",
    "    \n",
    "    def It2staFin(self, Wr, h, bias, itsta):\n",
    "        # h = torch.zeros_like(bias,device=self.device)\n",
    "        for indx in range(itsta):\n",
    "            h = self.f(h).mm(Wr)+bias\n",
    "        \n",
    "        return h\n",
    "    \n",
    "    \n",
    "    def It2stanF(self, Wr, h, bias, itsta):\n",
    "        # h = torch.zeros_like(bias,device=self.device)\n",
    "        for indx in range(itsta):\n",
    "            h = (h.mm(Wr)+bias)\n",
    "        \n",
    "        return h"
   ]
  },
  {
   "cell_type": "code",
   "execution_count": 5,
   "id": "f17b84f9",
   "metadata": {},
   "outputs": [
    {
     "name": "stdout",
     "output_type": "stream",
     "text": [
      "True\n",
      "NVIDIA GeForce GTX 1650\n"
     ]
    }
   ],
   "source": [
    "\n",
    "import matplotlib.pyplot as plt\n",
    "\n",
    "import random\n",
    "import time\n",
    "from tqdm import tqdm  \n",
    "from pathlib import Path\n",
    "\n",
    "seed = 42\n",
    "random.seed(seed)\n",
    "np.random.seed(seed)\n",
    "torch.manual_seed(seed)\n",
    "if torch.cuda.is_available():\n",
    "    torch.cuda.manual_seed(seed)\n",
    "    torch.cuda.manual_seed_all(seed)\n",
    "torch.backends.cudnn.deterministic = True\n",
    "torch.backends.cudnn.benchmark = False\n",
    "\n",
    "print(torch.cuda.is_available())\n",
    "print(torch.cuda.get_device_name())\n",
    "device = torch.device(\"cuda\" if torch.cuda.is_available() else \"cpu\")"
   ]
  },
  {
   "cell_type": "code",
   "execution_count": 6,
   "id": "adfbbb03",
   "metadata": {},
   "outputs": [],
   "source": [
    "class Config:\n",
    "    def __init__(self):\n",
    "        self.device = device\n",
    "        self.n_input = 28 * 28  # input size\n",
    "        self.n_out = 10         # number of classes\n",
    "\n",
    "        self.nL_hidd = 2        # num of hidden layers\n",
    "        self.n_hidd = 1024      # num of neurons in hidden layers\n",
    "        self.n_NperU = 256      # num of nodes per block (RE, SE, RI, SI) per layer\n",
    "        self.n_NU = self.n_hidd // self.n_NperU \n",
    "        self.n_RE = -1          # num of RE neuron in hidden layers\n",
    "        self.n_SE = -1          # num of SE neuron in hidden layers\n",
    "\n",
    "        self.f = tanh           # f tanh relu6 \n",
    "        self.fd = tanh_d\n",
    "\n",
    "        self.RNN_CR = 0.25      # RNN connection rate\n",
    "        self.RNN_SR = 0.25      # Spectral radius of RNN weights\n",
    "\n",
    "        self.RNN_t2sta = 8      # The number of iterations to stability (inference phase)\n",
    "        self.RNN_t2sta2 = self.RNN_t2sta # The number of iterations to stability (training phase) \n",
    "\n",
    "        self.flag_ycz = False   # False: STE, True: EPE\n",
    "        \n",
    "        self.sc_forward = 1     # additional feedforward scaling\n",
    "        self.sc_forward_f = 1   # additional feedforward scaling at final layer\n",
    "        self.sc_back = np.sqrt(self.n_NperU)/1        # additional feedback scaling\n",
    "        self.sc_back_f = 1      # additional feedback scaling at final layer\n",
    "        self.sc_bias = 1.0      # RNN bias scaling\n",
    "\n",
    "        self.factor_beta1 = 1   # feedback error scaling\n",
    "\n",
    "        self.train_n_epochs = 100     # Training epochs\n",
    "        self.train_batch_size = 500     # batch size\n",
    "        self.train_eta_global = 1e-3    # learning rate\n",
    "        self.train_fbupdaterule = 'ee'\n",
    "\n",
    "        self.train_task = \"FMNIST\"      # \"MNIST\" \"FMNIST\" \"CIFAR10\"\n",
    "        self.train_tmethod = 'AP'       # \n",
    "\n"
   ]
  },
  {
   "cell_type": "code",
   "execution_count": null,
   "id": "ce41230a",
   "metadata": {},
   "outputs": [
    {
     "name": "stdout",
     "output_type": "stream",
     "text": [
      "AP_L2_FMNIST_demo_0_0_\n"
     ]
    },
    {
     "name": "stderr",
     "output_type": "stream",
     "text": [
      "Epoch 1/100: 100%|██████████| 120/120 [00:02<00:00, 46.35batch/s, loss=1.821429]\n"
     ]
    },
    {
     "name": "stdout",
     "output_type": "stream",
     "text": [
      "\t Loss: 152.371,\tTrain : 66.91%,\tTest : 65.90%,\tCurrent Time: 2025-05-25 10:05:46\n"
     ]
    },
    {
     "name": "stderr",
     "output_type": "stream",
     "text": [
      "Epoch 2/100: 100%|██████████| 120/120 [00:02<00:00, 48.67batch/s, loss=0.961057]\n"
     ]
    },
    {
     "name": "stdout",
     "output_type": "stream",
     "text": [
      "\t Loss: 89.643,\tTrain : 77.16%,\tTest : 76.15%,\tCurrent Time: 2025-05-25 10:05:50\n"
     ]
    },
    {
     "name": "stderr",
     "output_type": "stream",
     "text": [
      "Epoch 3/100: 100%|██████████| 120/120 [00:02<00:00, 49.15batch/s, loss=0.644573]\n"
     ]
    },
    {
     "name": "stdout",
     "output_type": "stream",
     "text": [
      "\t Loss: 68.028,\tTrain : 81.71%,\tTest : 80.65%,\tCurrent Time: 2025-05-25 10:05:53\n"
     ]
    },
    {
     "name": "stderr",
     "output_type": "stream",
     "text": [
      "Epoch 4/100: 100%|██████████| 120/120 [00:02<00:00, 49.16batch/s, loss=0.526588]\n"
     ]
    },
    {
     "name": "stdout",
     "output_type": "stream",
     "text": [
      "\t Loss: 59.304,\tTrain : 83.25%,\tTest : 81.97%,\tCurrent Time: 2025-05-25 10:05:57\n"
     ]
    },
    {
     "name": "stderr",
     "output_type": "stream",
     "text": [
      "Epoch 5/100: 100%|██████████| 120/120 [00:02<00:00, 49.30batch/s, loss=0.472908]\n"
     ]
    },
    {
     "name": "stdout",
     "output_type": "stream",
     "text": [
      "\t Loss: 54.043,\tTrain : 84.54%,\tTest : 83.23%,\tCurrent Time: 2025-05-25 10:06:01\n"
     ]
    },
    {
     "name": "stderr",
     "output_type": "stream",
     "text": [
      "Epoch 6/100: 100%|██████████| 120/120 [00:02<00:00, 48.93batch/s, loss=0.440103]\n"
     ]
    },
    {
     "name": "stdout",
     "output_type": "stream",
     "text": [
      "\t Loss: 51.588,\tTrain : 85.07%,\tTest : 83.49%,\tCurrent Time: 2025-05-25 10:06:04\n"
     ]
    },
    {
     "name": "stderr",
     "output_type": "stream",
     "text": [
      "Epoch 7/100: 100%|██████████| 120/120 [00:02<00:00, 48.78batch/s, loss=0.417410]\n"
     ]
    },
    {
     "name": "stdout",
     "output_type": "stream",
     "text": [
      "\t Loss: 48.896,\tTrain : 85.77%,\tTest : 84.24%,\tCurrent Time: 2025-05-25 10:06:08\n"
     ]
    },
    {
     "name": "stderr",
     "output_type": "stream",
     "text": [
      "Epoch 8/100: 100%|██████████| 120/120 [00:02<00:00, 49.07batch/s, loss=0.399604]\n"
     ]
    },
    {
     "name": "stdout",
     "output_type": "stream",
     "text": [
      "\t Loss: 46.673,\tTrain : 86.42%,\tTest : 84.91%,\tCurrent Time: 2025-05-25 10:06:12\n"
     ]
    },
    {
     "name": "stderr",
     "output_type": "stream",
     "text": [
      "Epoch 9/100: 100%|██████████| 120/120 [00:02<00:00, 49.34batch/s, loss=0.385109]\n"
     ]
    },
    {
     "name": "stdout",
     "output_type": "stream",
     "text": [
      "\t Loss: 45.537,\tTrain : 86.73%,\tTest : 85.14%,\tCurrent Time: 2025-05-25 10:06:15\n"
     ]
    },
    {
     "name": "stderr",
     "output_type": "stream",
     "text": [
      "Epoch 10/100: 100%|█████████| 120/120 [00:02<00:00, 49.09batch/s, loss=0.372872]\n"
     ]
    },
    {
     "name": "stdout",
     "output_type": "stream",
     "text": [
      "\t Loss: 43.696,\tTrain : 87.33%,\tTest : 85.61%,\tCurrent Time: 2025-05-25 10:06:19\n"
     ]
    },
    {
     "name": "stderr",
     "output_type": "stream",
     "text": [
      "Epoch 11/100: 100%|█████████| 120/120 [00:02<00:00, 50.94batch/s, loss=0.362207]\n"
     ]
    },
    {
     "name": "stdout",
     "output_type": "stream",
     "text": [
      "\t Loss: 42.723,\tTrain : 87.53%,\tTest : 85.67%,\tCurrent Time: 2025-05-25 10:06:22\n"
     ]
    },
    {
     "name": "stderr",
     "output_type": "stream",
     "text": [
      "Epoch 12/100: 100%|█████████| 120/120 [00:02<00:00, 49.82batch/s, loss=0.352529]\n"
     ]
    },
    {
     "name": "stdout",
     "output_type": "stream",
     "text": [
      "\t Loss: 41.590,\tTrain : 87.78%,\tTest : 85.81%,\tCurrent Time: 2025-05-25 10:06:26\n"
     ]
    },
    {
     "name": "stderr",
     "output_type": "stream",
     "text": [
      "Epoch 13/100: 100%|█████████| 120/120 [00:02<00:00, 49.73batch/s, loss=0.343671]\n"
     ]
    },
    {
     "name": "stdout",
     "output_type": "stream",
     "text": [
      "\t Loss: 40.406,\tTrain : 88.19%,\tTest : 86.59%,\tCurrent Time: 2025-05-25 10:06:30\n"
     ]
    },
    {
     "name": "stderr",
     "output_type": "stream",
     "text": [
      "Epoch 14/100: 100%|█████████| 120/120 [00:02<00:00, 50.88batch/s, loss=0.337700]\n"
     ]
    },
    {
     "name": "stdout",
     "output_type": "stream",
     "text": [
      "\t Loss: 39.495,\tTrain : 88.45%,\tTest : 86.71%,\tCurrent Time: 2025-05-25 10:06:33\n"
     ]
    },
    {
     "name": "stderr",
     "output_type": "stream",
     "text": [
      "Epoch 15/100: 100%|█████████| 120/120 [00:02<00:00, 51.08batch/s, loss=0.330328]\n"
     ]
    },
    {
     "name": "stdout",
     "output_type": "stream",
     "text": [
      "\t Loss: 38.757,\tTrain : 88.63%,\tTest : 86.81%,\tCurrent Time: 2025-05-25 10:06:37\n"
     ]
    },
    {
     "name": "stderr",
     "output_type": "stream",
     "text": [
      "Epoch 16/100: 100%|█████████| 120/120 [00:02<00:00, 50.16batch/s, loss=0.322469]\n"
     ]
    },
    {
     "name": "stdout",
     "output_type": "stream",
     "text": [
      "\t Loss: 38.486,\tTrain : 88.76%,\tTest : 86.74%,\tCurrent Time: 2025-05-25 10:06:40\n"
     ]
    },
    {
     "name": "stderr",
     "output_type": "stream",
     "text": [
      "Epoch 17/100: 100%|█████████| 120/120 [00:02<00:00, 51.31batch/s, loss=0.317751]\n"
     ]
    },
    {
     "name": "stdout",
     "output_type": "stream",
     "text": [
      "\t Loss: 37.260,\tTrain : 89.08%,\tTest : 86.92%,\tCurrent Time: 2025-05-25 10:06:44\n"
     ]
    },
    {
     "name": "stderr",
     "output_type": "stream",
     "text": [
      "Epoch 18/100: 100%|█████████| 120/120 [00:02<00:00, 49.61batch/s, loss=0.310678]\n"
     ]
    },
    {
     "name": "stdout",
     "output_type": "stream",
     "text": [
      "\t Loss: 36.712,\tTrain : 89.11%,\tTest : 86.90%,\tCurrent Time: 2025-05-25 10:06:47\n"
     ]
    },
    {
     "name": "stderr",
     "output_type": "stream",
     "text": [
      "Epoch 19/100: 100%|█████████| 120/120 [00:02<00:00, 47.71batch/s, loss=0.304317]\n"
     ]
    },
    {
     "name": "stdout",
     "output_type": "stream",
     "text": [
      "\t Loss: 35.593,\tTrain : 89.50%,\tTest : 87.23%,\tCurrent Time: 2025-05-25 10:06:51\n"
     ]
    },
    {
     "name": "stderr",
     "output_type": "stream",
     "text": [
      "Epoch 20/100: 100%|█████████| 120/120 [00:02<00:00, 51.13batch/s, loss=0.298037]\n"
     ]
    },
    {
     "name": "stdout",
     "output_type": "stream",
     "text": [
      "\t Loss: 34.794,\tTrain : 89.80%,\tTest : 87.35%,\tCurrent Time: 2025-05-25 10:06:55\n"
     ]
    },
    {
     "name": "stderr",
     "output_type": "stream",
     "text": [
      "Epoch 21/100: 100%|█████████| 120/120 [00:02<00:00, 50.58batch/s, loss=0.292989]\n"
     ]
    },
    {
     "name": "stdout",
     "output_type": "stream",
     "text": [
      "\t Loss: 34.759,\tTrain : 89.72%,\tTest : 87.31%,\tCurrent Time: 2025-05-25 10:06:58\n"
     ]
    },
    {
     "name": "stderr",
     "output_type": "stream",
     "text": [
      "Epoch 22/100: 100%|█████████| 120/120 [00:02<00:00, 49.32batch/s, loss=0.287782]\n"
     ]
    },
    {
     "name": "stdout",
     "output_type": "stream",
     "text": [
      "\t Loss: 33.821,\tTrain : 89.98%,\tTest : 87.19%,\tCurrent Time: 2025-05-25 10:07:02\n"
     ]
    },
    {
     "name": "stderr",
     "output_type": "stream",
     "text": [
      "Epoch 23/100: 100%|█████████| 120/120 [00:02<00:00, 49.66batch/s, loss=0.281911]\n"
     ]
    },
    {
     "name": "stdout",
     "output_type": "stream",
     "text": [
      "\t Loss: 33.147,\tTrain : 90.22%,\tTest : 87.28%,\tCurrent Time: 2025-05-25 10:07:05\n"
     ]
    },
    {
     "name": "stderr",
     "output_type": "stream",
     "text": [
      "Epoch 24/100: 100%|█████████| 120/120 [00:02<00:00, 50.37batch/s, loss=0.277789]\n"
     ]
    },
    {
     "name": "stdout",
     "output_type": "stream",
     "text": [
      "\t Loss: 33.395,\tTrain : 90.15%,\tTest : 87.34%,\tCurrent Time: 2025-05-25 10:07:09\n"
     ]
    },
    {
     "name": "stderr",
     "output_type": "stream",
     "text": [
      "Epoch 25/100: 100%|█████████| 120/120 [00:02<00:00, 51.06batch/s, loss=0.272459]\n"
     ]
    },
    {
     "name": "stdout",
     "output_type": "stream",
     "text": [
      "\t Loss: 32.078,\tTrain : 90.49%,\tTest : 87.54%,\tCurrent Time: 2025-05-25 10:07:13\n"
     ]
    },
    {
     "name": "stderr",
     "output_type": "stream",
     "text": [
      "Epoch 26/100: 100%|█████████| 120/120 [00:02<00:00, 50.95batch/s, loss=0.267638]\n"
     ]
    },
    {
     "name": "stdout",
     "output_type": "stream",
     "text": [
      "\t Loss: 31.174,\tTrain : 90.83%,\tTest : 87.75%,\tCurrent Time: 2025-05-25 10:07:16\n"
     ]
    },
    {
     "name": "stderr",
     "output_type": "stream",
     "text": [
      "Epoch 27/100: 100%|█████████| 120/120 [00:02<00:00, 50.94batch/s, loss=0.263107]\n"
     ]
    },
    {
     "name": "stdout",
     "output_type": "stream",
     "text": [
      "\t Loss: 31.236,\tTrain : 90.69%,\tTest : 87.53%,\tCurrent Time: 2025-05-25 10:07:20\n"
     ]
    },
    {
     "name": "stderr",
     "output_type": "stream",
     "text": [
      "Epoch 28/100: 100%|█████████| 120/120 [00:02<00:00, 50.80batch/s, loss=0.258799]\n"
     ]
    },
    {
     "name": "stdout",
     "output_type": "stream",
     "text": [
      "\t Loss: 30.130,\tTrain : 91.09%,\tTest : 88.02%,\tCurrent Time: 2025-05-25 10:07:23\n"
     ]
    },
    {
     "name": "stderr",
     "output_type": "stream",
     "text": [
      "Epoch 29/100: 100%|█████████| 120/120 [00:02<00:00, 50.45batch/s, loss=0.254365]\n"
     ]
    },
    {
     "name": "stdout",
     "output_type": "stream",
     "text": [
      "\t Loss: 29.672,\tTrain : 91.20%,\tTest : 88.00%,\tCurrent Time: 2025-05-25 10:07:27\n"
     ]
    },
    {
     "name": "stderr",
     "output_type": "stream",
     "text": [
      "Epoch 30/100: 100%|█████████| 120/120 [00:02<00:00, 50.49batch/s, loss=0.250616]\n"
     ]
    },
    {
     "name": "stdout",
     "output_type": "stream",
     "text": [
      "\t Loss: 29.115,\tTrain : 91.39%,\tTest : 88.04%,\tCurrent Time: 2025-05-25 10:07:30\n"
     ]
    },
    {
     "name": "stderr",
     "output_type": "stream",
     "text": [
      "Epoch 31/100: 100%|█████████| 120/120 [00:02<00:00, 50.47batch/s, loss=0.246135]\n"
     ]
    },
    {
     "name": "stdout",
     "output_type": "stream",
     "text": [
      "\t Loss: 28.553,\tTrain : 91.55%,\tTest : 88.19%,\tCurrent Time: 2025-05-25 10:07:34\n"
     ]
    },
    {
     "name": "stderr",
     "output_type": "stream",
     "text": [
      "Epoch 32/100: 100%|█████████| 120/120 [00:02<00:00, 50.71batch/s, loss=0.241530]\n"
     ]
    },
    {
     "name": "stdout",
     "output_type": "stream",
     "text": [
      "\t Loss: 28.300,\tTrain : 91.61%,\tTest : 88.17%,\tCurrent Time: 2025-05-25 10:07:37\n"
     ]
    },
    {
     "name": "stderr",
     "output_type": "stream",
     "text": [
      "Epoch 33/100: 100%|█████████| 120/120 [00:02<00:00, 50.26batch/s, loss=0.237889]\n"
     ]
    },
    {
     "name": "stdout",
     "output_type": "stream",
     "text": [
      "\t Loss: 27.382,\tTrain : 91.86%,\tTest : 88.13%,\tCurrent Time: 2025-05-25 10:07:41\n"
     ]
    },
    {
     "name": "stderr",
     "output_type": "stream",
     "text": [
      "Epoch 34/100: 100%|█████████| 120/120 [00:02<00:00, 50.79batch/s, loss=0.233785]\n"
     ]
    },
    {
     "name": "stdout",
     "output_type": "stream",
     "text": [
      "\t Loss: 27.146,\tTrain : 91.93%,\tTest : 88.36%,\tCurrent Time: 2025-05-25 10:07:45\n"
     ]
    },
    {
     "name": "stderr",
     "output_type": "stream",
     "text": [
      "Epoch 35/100: 100%|█████████| 120/120 [00:02<00:00, 50.69batch/s, loss=0.230333]\n"
     ]
    },
    {
     "name": "stdout",
     "output_type": "stream",
     "text": [
      "\t Loss: 26.928,\tTrain : 92.03%,\tTest : 88.03%,\tCurrent Time: 2025-05-25 10:07:48\n"
     ]
    },
    {
     "name": "stderr",
     "output_type": "stream",
     "text": [
      "Epoch 36/100: 100%|█████████| 120/120 [00:02<00:00, 50.55batch/s, loss=0.225426]\n"
     ]
    },
    {
     "name": "stdout",
     "output_type": "stream",
     "text": [
      "\t Loss: 26.157,\tTrain : 92.27%,\tTest : 88.49%,\tCurrent Time: 2025-05-25 10:07:52\n"
     ]
    },
    {
     "name": "stderr",
     "output_type": "stream",
     "text": [
      "Epoch 37/100: 100%|█████████| 120/120 [00:02<00:00, 50.40batch/s, loss=0.221526]\n"
     ]
    },
    {
     "name": "stdout",
     "output_type": "stream",
     "text": [
      "\t Loss: 25.679,\tTrain : 92.42%,\tTest : 88.52%,\tCurrent Time: 2025-05-25 10:07:55\n"
     ]
    },
    {
     "name": "stderr",
     "output_type": "stream",
     "text": [
      "Epoch 38/100: 100%|█████████| 120/120 [00:02<00:00, 50.71batch/s, loss=0.217333]\n"
     ]
    },
    {
     "name": "stdout",
     "output_type": "stream",
     "text": [
      "\t Loss: 25.935,\tTrain : 92.26%,\tTest : 88.03%,\tCurrent Time: 2025-05-25 10:07:59\n"
     ]
    },
    {
     "name": "stderr",
     "output_type": "stream",
     "text": [
      "Epoch 39/100: 100%|█████████| 120/120 [00:02<00:00, 50.89batch/s, loss=0.214917]\n"
     ]
    },
    {
     "name": "stdout",
     "output_type": "stream",
     "text": [
      "\t Loss: 25.375,\tTrain : 92.47%,\tTest : 88.13%,\tCurrent Time: 2025-05-25 10:08:02\n"
     ]
    },
    {
     "name": "stderr",
     "output_type": "stream",
     "text": [
      "Epoch 40/100: 100%|█████████| 120/120 [00:02<00:00, 49.67batch/s, loss=0.210380]\n"
     ]
    },
    {
     "name": "stdout",
     "output_type": "stream",
     "text": [
      "\t Loss: 24.592,\tTrain : 92.74%,\tTest : 88.69%,\tCurrent Time: 2025-05-25 10:08:06\n"
     ]
    },
    {
     "name": "stderr",
     "output_type": "stream",
     "text": [
      "Epoch 41/100: 100%|█████████| 120/120 [00:02<00:00, 50.88batch/s, loss=0.207403]\n"
     ]
    },
    {
     "name": "stdout",
     "output_type": "stream",
     "text": [
      "\t Loss: 23.835,\tTrain : 92.92%,\tTest : 88.59%,\tCurrent Time: 2025-05-25 10:08:10\n"
     ]
    },
    {
     "name": "stderr",
     "output_type": "stream",
     "text": [
      "Epoch 42/100: 100%|█████████| 120/120 [00:02<00:00, 51.08batch/s, loss=0.201929]\n"
     ]
    },
    {
     "name": "stdout",
     "output_type": "stream",
     "text": [
      "\t Loss: 23.921,\tTrain : 92.85%,\tTest : 88.54%,\tCurrent Time: 2025-05-25 10:08:13\n"
     ]
    },
    {
     "name": "stderr",
     "output_type": "stream",
     "text": [
      "Epoch 43/100: 100%|█████████| 120/120 [00:02<00:00, 49.11batch/s, loss=0.199389]\n"
     ]
    },
    {
     "name": "stdout",
     "output_type": "stream",
     "text": [
      "\t Loss: 22.955,\tTrain : 93.32%,\tTest : 88.72%,\tCurrent Time: 2025-05-25 10:08:17\n"
     ]
    },
    {
     "name": "stderr",
     "output_type": "stream",
     "text": [
      "Epoch 44/100: 100%|█████████| 120/120 [00:02<00:00, 47.23batch/s, loss=0.195390]\n"
     ]
    },
    {
     "name": "stdout",
     "output_type": "stream",
     "text": [
      "\t Loss: 22.327,\tTrain : 93.54%,\tTest : 88.63%,\tCurrent Time: 2025-05-25 10:08:21\n"
     ]
    },
    {
     "name": "stderr",
     "output_type": "stream",
     "text": [
      "Epoch 45/100: 100%|█████████| 120/120 [00:02<00:00, 50.68batch/s, loss=0.191996]\n"
     ]
    },
    {
     "name": "stdout",
     "output_type": "stream",
     "text": [
      "\t Loss: 22.475,\tTrain : 93.39%,\tTest : 88.76%,\tCurrent Time: 2025-05-25 10:08:24\n"
     ]
    },
    {
     "name": "stderr",
     "output_type": "stream",
     "text": [
      "Epoch 46/100: 100%|█████████| 120/120 [00:02<00:00, 50.31batch/s, loss=0.190528]\n"
     ]
    },
    {
     "name": "stdout",
     "output_type": "stream",
     "text": [
      "\t Loss: 22.178,\tTrain : 93.43%,\tTest : 88.36%,\tCurrent Time: 2025-05-25 10:08:28\n"
     ]
    },
    {
     "name": "stderr",
     "output_type": "stream",
     "text": [
      "Epoch 47/100: 100%|█████████| 120/120 [00:02<00:00, 50.92batch/s, loss=0.185514]\n"
     ]
    },
    {
     "name": "stdout",
     "output_type": "stream",
     "text": [
      "\t Loss: 21.216,\tTrain : 93.77%,\tTest : 88.63%,\tCurrent Time: 2025-05-25 10:08:31\n"
     ]
    },
    {
     "name": "stderr",
     "output_type": "stream",
     "text": [
      "Epoch 48/100: 100%|█████████| 120/120 [00:02<00:00, 50.78batch/s, loss=0.183009]\n"
     ]
    },
    {
     "name": "stdout",
     "output_type": "stream",
     "text": [
      "\t Loss: 21.066,\tTrain : 93.94%,\tTest : 88.83%,\tCurrent Time: 2025-05-25 10:08:35\n"
     ]
    },
    {
     "name": "stderr",
     "output_type": "stream",
     "text": [
      "Epoch 49/100: 100%|█████████| 120/120 [00:02<00:00, 51.04batch/s, loss=0.178736]\n"
     ]
    },
    {
     "name": "stdout",
     "output_type": "stream",
     "text": [
      "\t Loss: 20.447,\tTrain : 94.06%,\tTest : 88.81%,\tCurrent Time: 2025-05-25 10:08:38\n"
     ]
    },
    {
     "name": "stderr",
     "output_type": "stream",
     "text": [
      "Epoch 50/100: 100%|█████████| 120/120 [00:02<00:00, 49.93batch/s, loss=0.175314]\n"
     ]
    },
    {
     "name": "stdout",
     "output_type": "stream",
     "text": [
      "\t Loss: 20.359,\tTrain : 94.06%,\tTest : 88.84%,\tCurrent Time: 2025-05-25 10:08:42\n"
     ]
    },
    {
     "name": "stderr",
     "output_type": "stream",
     "text": [
      "Epoch 51/100: 100%|█████████| 120/120 [00:02<00:00, 51.04batch/s, loss=0.172029]\n"
     ]
    },
    {
     "name": "stdout",
     "output_type": "stream",
     "text": [
      "\t Loss: 19.573,\tTrain : 94.33%,\tTest : 88.97%,\tCurrent Time: 2025-05-25 10:08:45\n"
     ]
    },
    {
     "name": "stderr",
     "output_type": "stream",
     "text": [
      "Epoch 52/100: 100%|█████████| 120/120 [00:02<00:00, 50.83batch/s, loss=0.170026]\n"
     ]
    },
    {
     "name": "stdout",
     "output_type": "stream",
     "text": [
      "\t Loss: 19.552,\tTrain : 94.27%,\tTest : 88.51%,\tCurrent Time: 2025-05-25 10:08:49\n"
     ]
    },
    {
     "name": "stderr",
     "output_type": "stream",
     "text": [
      "Epoch 53/100: 100%|█████████| 120/120 [00:02<00:00, 50.29batch/s, loss=0.166367]\n"
     ]
    },
    {
     "name": "stdout",
     "output_type": "stream",
     "text": [
      "\t Loss: 19.722,\tTrain : 94.19%,\tTest : 88.63%,\tCurrent Time: 2025-05-25 10:08:53\n"
     ]
    },
    {
     "name": "stderr",
     "output_type": "stream",
     "text": [
      "Epoch 54/100: 100%|█████████| 120/120 [00:02<00:00, 50.50batch/s, loss=0.162005]\n"
     ]
    },
    {
     "name": "stdout",
     "output_type": "stream",
     "text": [
      "\t Loss: 18.360,\tTrain : 94.69%,\tTest : 89.04%,\tCurrent Time: 2025-05-25 10:08:56\n"
     ]
    },
    {
     "name": "stderr",
     "output_type": "stream",
     "text": [
      "Epoch 55/100: 100%|█████████| 120/120 [00:02<00:00, 50.13batch/s, loss=0.161029]\n"
     ]
    },
    {
     "name": "stdout",
     "output_type": "stream",
     "text": [
      "\t Loss: 19.875,\tTrain : 94.06%,\tTest : 88.36%,\tCurrent Time: 2025-05-25 10:09:00\n"
     ]
    },
    {
     "name": "stderr",
     "output_type": "stream",
     "text": [
      "Epoch 56/100: 100%|█████████| 120/120 [00:02<00:00, 50.25batch/s, loss=0.157632]\n"
     ]
    },
    {
     "name": "stdout",
     "output_type": "stream",
     "text": [
      "\t Loss: 18.042,\tTrain : 94.77%,\tTest : 88.93%,\tCurrent Time: 2025-05-25 10:09:03\n"
     ]
    },
    {
     "name": "stderr",
     "output_type": "stream",
     "text": [
      "Epoch 57/100: 100%|█████████| 120/120 [00:02<00:00, 49.96batch/s, loss=0.152505]\n"
     ]
    },
    {
     "name": "stdout",
     "output_type": "stream",
     "text": [
      "\t Loss: 17.336,\tTrain : 95.07%,\tTest : 88.83%,\tCurrent Time: 2025-05-25 10:09:07\n"
     ]
    },
    {
     "name": "stderr",
     "output_type": "stream",
     "text": [
      "Epoch 58/100: 100%|█████████| 120/120 [00:02<00:00, 49.21batch/s, loss=0.149706]\n"
     ]
    },
    {
     "name": "stdout",
     "output_type": "stream",
     "text": [
      "\t Loss: 17.126,\tTrain : 95.14%,\tTest : 88.99%,\tCurrent Time: 2025-05-25 10:09:11\n"
     ]
    },
    {
     "name": "stderr",
     "output_type": "stream",
     "text": [
      "Epoch 59/100: 100%|█████████| 120/120 [00:02<00:00, 49.00batch/s, loss=0.147922]\n"
     ]
    },
    {
     "name": "stdout",
     "output_type": "stream",
     "text": [
      "\t Loss: 17.401,\tTrain : 94.90%,\tTest : 88.69%,\tCurrent Time: 2025-05-25 10:09:14\n"
     ]
    },
    {
     "name": "stderr",
     "output_type": "stream",
     "text": [
      "Epoch 60/100: 100%|█████████| 120/120 [00:02<00:00, 49.68batch/s, loss=0.144550]\n"
     ]
    },
    {
     "name": "stdout",
     "output_type": "stream",
     "text": [
      "\t Loss: 16.818,\tTrain : 95.13%,\tTest : 88.69%,\tCurrent Time: 2025-05-25 10:09:18\n"
     ]
    },
    {
     "name": "stderr",
     "output_type": "stream",
     "text": [
      "Epoch 61/100: 100%|█████████| 120/120 [00:02<00:00, 49.42batch/s, loss=0.141543]\n"
     ]
    },
    {
     "name": "stdout",
     "output_type": "stream",
     "text": [
      "\t Loss: 16.117,\tTrain : 95.45%,\tTest : 89.01%,\tCurrent Time: 2025-05-25 10:09:22\n"
     ]
    },
    {
     "name": "stderr",
     "output_type": "stream",
     "text": [
      "Epoch 62/100: 100%|█████████| 120/120 [00:02<00:00, 50.88batch/s, loss=0.137785]\n"
     ]
    },
    {
     "name": "stdout",
     "output_type": "stream",
     "text": [
      "\t Loss: 15.386,\tTrain : 95.77%,\tTest : 88.86%,\tCurrent Time: 2025-05-25 10:09:25\n"
     ]
    },
    {
     "name": "stderr",
     "output_type": "stream",
     "text": [
      "Epoch 63/100: 100%|█████████| 120/120 [00:02<00:00, 50.52batch/s, loss=0.136464]\n"
     ]
    },
    {
     "name": "stdout",
     "output_type": "stream",
     "text": [
      "\t Loss: 15.104,\tTrain : 95.76%,\tTest : 88.73%,\tCurrent Time: 2025-05-25 10:09:29\n"
     ]
    },
    {
     "name": "stderr",
     "output_type": "stream",
     "text": [
      "Epoch 64/100: 100%|█████████| 120/120 [00:02<00:00, 50.77batch/s, loss=0.132319]\n"
     ]
    },
    {
     "name": "stdout",
     "output_type": "stream",
     "text": [
      "\t Loss: 15.218,\tTrain : 95.73%,\tTest : 88.78%,\tCurrent Time: 2025-05-25 10:09:32\n"
     ]
    },
    {
     "name": "stderr",
     "output_type": "stream",
     "text": [
      "Epoch 65/100: 100%|█████████| 120/120 [00:02<00:00, 50.60batch/s, loss=0.133119]\n"
     ]
    },
    {
     "name": "stdout",
     "output_type": "stream",
     "text": [
      "\t Loss: 15.061,\tTrain : 95.78%,\tTest : 88.80%,\tCurrent Time: 2025-05-25 10:09:36\n"
     ]
    },
    {
     "name": "stderr",
     "output_type": "stream",
     "text": [
      "Epoch 66/100: 100%|█████████| 120/120 [00:02<00:00, 50.58batch/s, loss=0.129988]\n"
     ]
    },
    {
     "name": "stdout",
     "output_type": "stream",
     "text": [
      "\t Loss: 15.150,\tTrain : 95.69%,\tTest : 88.59%,\tCurrent Time: 2025-05-25 10:09:39\n"
     ]
    },
    {
     "name": "stderr",
     "output_type": "stream",
     "text": [
      "Epoch 67/100: 100%|█████████| 120/120 [00:02<00:00, 50.35batch/s, loss=0.126544]\n"
     ]
    },
    {
     "name": "stdout",
     "output_type": "stream",
     "text": [
      "\t Loss: 16.280,\tTrain : 95.20%,\tTest : 88.04%,\tCurrent Time: 2025-05-25 10:09:43\n"
     ]
    },
    {
     "name": "stderr",
     "output_type": "stream",
     "text": [
      "Epoch 68/100: 100%|█████████| 120/120 [00:02<00:00, 50.91batch/s, loss=0.126258]\n"
     ]
    },
    {
     "name": "stdout",
     "output_type": "stream",
     "text": [
      "\t Loss: 13.932,\tTrain : 96.15%,\tTest : 89.01%,\tCurrent Time: 2025-05-25 10:09:46\n"
     ]
    },
    {
     "name": "stderr",
     "output_type": "stream",
     "text": [
      "Epoch 69/100: 100%|█████████| 120/120 [00:02<00:00, 50.90batch/s, loss=0.124318]\n"
     ]
    },
    {
     "name": "stdout",
     "output_type": "stream",
     "text": [
      "\t Loss: 14.030,\tTrain : 96.12%,\tTest : 88.68%,\tCurrent Time: 2025-05-25 10:09:50\n"
     ]
    },
    {
     "name": "stderr",
     "output_type": "stream",
     "text": [
      "Epoch 70/100: 100%|█████████| 120/120 [00:02<00:00, 51.01batch/s, loss=0.118867]\n"
     ]
    },
    {
     "name": "stdout",
     "output_type": "stream",
     "text": [
      "\t Loss: 14.044,\tTrain : 95.95%,\tTest : 88.71%,\tCurrent Time: 2025-05-25 10:09:53\n"
     ]
    },
    {
     "name": "stderr",
     "output_type": "stream",
     "text": [
      "Epoch 71/100: 100%|█████████| 120/120 [00:02<00:00, 50.44batch/s, loss=0.116390]\n"
     ]
    },
    {
     "name": "stdout",
     "output_type": "stream",
     "text": [
      "\t Loss: 12.684,\tTrain : 96.55%,\tTest : 89.00%,\tCurrent Time: 2025-05-25 10:09:57\n"
     ]
    },
    {
     "name": "stderr",
     "output_type": "stream",
     "text": [
      "Epoch 72/100: 100%|█████████| 120/120 [00:02<00:00, 50.80batch/s, loss=0.114838]\n"
     ]
    },
    {
     "name": "stdout",
     "output_type": "stream",
     "text": [
      "\t Loss: 13.100,\tTrain : 96.42%,\tTest : 88.66%,\tCurrent Time: 2025-05-25 10:10:01\n"
     ]
    },
    {
     "name": "stderr",
     "output_type": "stream",
     "text": [
      "Epoch 73/100: 100%|█████████| 120/120 [00:02<00:00, 50.40batch/s, loss=0.111442]\n"
     ]
    },
    {
     "name": "stdout",
     "output_type": "stream",
     "text": [
      "\t Loss: 13.508,\tTrain : 96.31%,\tTest : 88.47%,\tCurrent Time: 2025-05-25 10:10:04\n"
     ]
    },
    {
     "name": "stderr",
     "output_type": "stream",
     "text": [
      "Epoch 74/100: 100%|█████████| 120/120 [00:02<00:00, 50.77batch/s, loss=0.111599]\n"
     ]
    },
    {
     "name": "stdout",
     "output_type": "stream",
     "text": [
      "\t Loss: 13.689,\tTrain : 96.08%,\tTest : 88.55%,\tCurrent Time: 2025-05-25 10:10:08\n"
     ]
    },
    {
     "name": "stderr",
     "output_type": "stream",
     "text": [
      "Epoch 75/100: 100%|█████████| 120/120 [00:02<00:00, 50.97batch/s, loss=0.107836]\n"
     ]
    },
    {
     "name": "stdout",
     "output_type": "stream",
     "text": [
      "\t Loss: 11.852,\tTrain : 96.81%,\tTest : 88.56%,\tCurrent Time: 2025-05-25 10:10:11\n"
     ]
    },
    {
     "name": "stderr",
     "output_type": "stream",
     "text": [
      "Epoch 76/100: 100%|█████████| 120/120 [00:02<00:00, 50.08batch/s, loss=0.105991]\n"
     ]
    },
    {
     "name": "stdout",
     "output_type": "stream",
     "text": [
      "\t Loss: 11.828,\tTrain : 96.84%,\tTest : 88.68%,\tCurrent Time: 2025-05-25 10:10:15\n"
     ]
    },
    {
     "name": "stderr",
     "output_type": "stream",
     "text": [
      "Epoch 77/100: 100%|█████████| 120/120 [00:02<00:00, 49.13batch/s, loss=0.102886]\n"
     ]
    },
    {
     "name": "stdout",
     "output_type": "stream",
     "text": [
      "\t Loss: 12.061,\tTrain : 96.56%,\tTest : 88.70%,\tCurrent Time: 2025-05-25 10:10:19\n"
     ]
    },
    {
     "name": "stderr",
     "output_type": "stream",
     "text": [
      "Epoch 78/100: 100%|█████████| 120/120 [00:02<00:00, 50.60batch/s, loss=0.102800]\n"
     ]
    },
    {
     "name": "stdout",
     "output_type": "stream",
     "text": [
      "\t Loss: 11.766,\tTrain : 96.66%,\tTest : 88.99%,\tCurrent Time: 2025-05-25 10:10:22\n"
     ]
    },
    {
     "name": "stderr",
     "output_type": "stream",
     "text": [
      "Epoch 79/100: 100%|█████████| 120/120 [00:02<00:00, 50.39batch/s, loss=0.097072]\n"
     ]
    },
    {
     "name": "stdout",
     "output_type": "stream",
     "text": [
      "\t Loss: 10.715,\tTrain : 97.18%,\tTest : 88.70%,\tCurrent Time: 2025-05-25 10:10:26\n"
     ]
    },
    {
     "name": "stderr",
     "output_type": "stream",
     "text": [
      "Epoch 80/100: 100%|█████████| 120/120 [00:02<00:00, 50.90batch/s, loss=0.095330]\n"
     ]
    },
    {
     "name": "stdout",
     "output_type": "stream",
     "text": [
      "\t Loss: 11.103,\tTrain : 96.92%,\tTest : 88.62%,\tCurrent Time: 2025-05-25 10:10:29\n"
     ]
    },
    {
     "name": "stderr",
     "output_type": "stream",
     "text": [
      "Epoch 81/100: 100%|█████████| 120/120 [00:02<00:00, 50.54batch/s, loss=0.093018]\n"
     ]
    },
    {
     "name": "stdout",
     "output_type": "stream",
     "text": [
      "\t Loss: 10.459,\tTrain : 97.24%,\tTest : 88.63%,\tCurrent Time: 2025-05-25 10:10:33\n"
     ]
    },
    {
     "name": "stderr",
     "output_type": "stream",
     "text": [
      "Epoch 82/100: 100%|█████████| 120/120 [00:02<00:00, 49.34batch/s, loss=0.091867]\n"
     ]
    },
    {
     "name": "stdout",
     "output_type": "stream",
     "text": [
      "\t Loss: 10.220,\tTrain : 97.28%,\tTest : 88.67%,\tCurrent Time: 2025-05-25 10:10:37\n"
     ]
    },
    {
     "name": "stderr",
     "output_type": "stream",
     "text": [
      "Epoch 83/100: 100%|█████████| 120/120 [00:02<00:00, 50.07batch/s, loss=0.091112]\n"
     ]
    },
    {
     "name": "stdout",
     "output_type": "stream",
     "text": [
      "\t Loss: 11.945,\tTrain : 96.44%,\tTest : 88.28%,\tCurrent Time: 2025-05-25 10:10:40\n"
     ]
    },
    {
     "name": "stderr",
     "output_type": "stream",
     "text": [
      "Epoch 84/100: 100%|█████████| 120/120 [00:02<00:00, 50.35batch/s, loss=0.090478]\n"
     ]
    },
    {
     "name": "stdout",
     "output_type": "stream",
     "text": [
      "\t Loss: 10.092,\tTrain : 97.38%,\tTest : 88.42%,\tCurrent Time: 2025-05-25 10:10:44\n"
     ]
    },
    {
     "name": "stderr",
     "output_type": "stream",
     "text": [
      "Epoch 85/100: 100%|█████████| 120/120 [00:02<00:00, 49.61batch/s, loss=0.088897]\n"
     ]
    },
    {
     "name": "stdout",
     "output_type": "stream",
     "text": [
      "\t Loss: 10.195,\tTrain : 97.21%,\tTest : 88.30%,\tCurrent Time: 2025-05-25 10:10:47\n"
     ]
    },
    {
     "name": "stderr",
     "output_type": "stream",
     "text": [
      "Epoch 86/100: 100%|█████████| 120/120 [00:02<00:00, 49.46batch/s, loss=0.086395]\n"
     ]
    },
    {
     "name": "stdout",
     "output_type": "stream",
     "text": [
      "\t Loss: 9.176,\tTrain : 97.65%,\tTest : 88.63%,\tCurrent Time: 2025-05-25 10:10:51\n"
     ]
    },
    {
     "name": "stderr",
     "output_type": "stream",
     "text": [
      "Epoch 87/100: 100%|█████████| 120/120 [00:02<00:00, 49.70batch/s, loss=0.084495]\n"
     ]
    },
    {
     "name": "stdout",
     "output_type": "stream",
     "text": [
      "\t Loss: 8.746,\tTrain : 97.75%,\tTest : 88.73%,\tCurrent Time: 2025-05-25 10:10:55\n"
     ]
    },
    {
     "name": "stderr",
     "output_type": "stream",
     "text": [
      "Epoch 88/100: 100%|█████████| 120/120 [00:02<00:00, 48.90batch/s, loss=0.081608]\n"
     ]
    },
    {
     "name": "stdout",
     "output_type": "stream",
     "text": [
      "\t Loss: 9.393,\tTrain : 97.52%,\tTest : 88.04%,\tCurrent Time: 2025-05-25 10:10:58\n"
     ]
    },
    {
     "name": "stderr",
     "output_type": "stream",
     "text": [
      "Epoch 89/100: 100%|█████████| 120/120 [00:02<00:00, 47.99batch/s, loss=0.079214]\n"
     ]
    },
    {
     "name": "stdout",
     "output_type": "stream",
     "text": [
      "\t Loss: 8.859,\tTrain : 97.67%,\tTest : 88.45%,\tCurrent Time: 2025-05-25 10:11:02\n"
     ]
    },
    {
     "name": "stderr",
     "output_type": "stream",
     "text": [
      "Epoch 90/100: 100%|█████████| 120/120 [00:02<00:00, 48.35batch/s, loss=0.074787]\n"
     ]
    },
    {
     "name": "stdout",
     "output_type": "stream",
     "text": [
      "\t Loss: 8.335,\tTrain : 97.88%,\tTest : 88.61%,\tCurrent Time: 2025-05-25 10:11:06\n"
     ]
    },
    {
     "name": "stderr",
     "output_type": "stream",
     "text": [
      "Epoch 91/100: 100%|█████████| 120/120 [00:02<00:00, 48.51batch/s, loss=0.075829]\n"
     ]
    },
    {
     "name": "stdout",
     "output_type": "stream",
     "text": [
      "\t Loss: 7.888,\tTrain : 98.05%,\tTest : 88.62%,\tCurrent Time: 2025-05-25 10:11:09\n"
     ]
    },
    {
     "name": "stderr",
     "output_type": "stream",
     "text": [
      "Epoch 92/100: 100%|█████████| 120/120 [00:02<00:00, 49.14batch/s, loss=0.072277]\n"
     ]
    },
    {
     "name": "stdout",
     "output_type": "stream",
     "text": [
      "\t Loss: 8.491,\tTrain : 97.84%,\tTest : 88.49%,\tCurrent Time: 2025-05-25 10:11:13\n"
     ]
    },
    {
     "name": "stderr",
     "output_type": "stream",
     "text": [
      "Epoch 93/100: 100%|█████████| 120/120 [00:02<00:00, 49.12batch/s, loss=0.073453]\n"
     ]
    },
    {
     "name": "stdout",
     "output_type": "stream",
     "text": [
      "\t Loss: 8.072,\tTrain : 97.90%,\tTest : 88.58%,\tCurrent Time: 2025-05-25 10:11:17\n"
     ]
    },
    {
     "name": "stderr",
     "output_type": "stream",
     "text": [
      "Epoch 94/100: 100%|█████████| 120/120 [00:02<00:00, 48.68batch/s, loss=0.070562]\n"
     ]
    },
    {
     "name": "stdout",
     "output_type": "stream",
     "text": [
      "\t Loss: 7.590,\tTrain : 98.09%,\tTest : 88.69%,\tCurrent Time: 2025-05-25 10:11:20\n"
     ]
    },
    {
     "name": "stderr",
     "output_type": "stream",
     "text": [
      "Epoch 95/100: 100%|█████████| 120/120 [00:02<00:00, 48.84batch/s, loss=0.075008]\n"
     ]
    },
    {
     "name": "stdout",
     "output_type": "stream",
     "text": [
      "\t Loss: 7.976,\tTrain : 97.92%,\tTest : 88.55%,\tCurrent Time: 2025-05-25 10:11:24\n"
     ]
    },
    {
     "name": "stderr",
     "output_type": "stream",
     "text": [
      "Epoch 96/100: 100%|█████████| 120/120 [00:02<00:00, 48.71batch/s, loss=0.067693]\n"
     ]
    },
    {
     "name": "stdout",
     "output_type": "stream",
     "text": [
      "\t Loss: 7.406,\tTrain : 98.17%,\tTest : 88.56%,\tCurrent Time: 2025-05-25 10:11:28\n"
     ]
    },
    {
     "name": "stderr",
     "output_type": "stream",
     "text": [
      "Epoch 97/100: 100%|█████████| 120/120 [00:02<00:00, 48.57batch/s, loss=0.066187]\n"
     ]
    },
    {
     "name": "stdout",
     "output_type": "stream",
     "text": [
      "\t Loss: 7.462,\tTrain : 98.06%,\tTest : 88.32%,\tCurrent Time: 2025-05-25 10:11:32\n"
     ]
    },
    {
     "name": "stderr",
     "output_type": "stream",
     "text": [
      "Epoch 98/100: 100%|█████████| 120/120 [00:02<00:00, 49.02batch/s, loss=0.065360]\n"
     ]
    },
    {
     "name": "stdout",
     "output_type": "stream",
     "text": [
      "\t Loss: 9.529,\tTrain : 97.20%,\tTest : 87.83%,\tCurrent Time: 2025-05-25 10:11:35\n"
     ]
    },
    {
     "name": "stderr",
     "output_type": "stream",
     "text": [
      "Epoch 99/100: 100%|█████████| 120/120 [00:02<00:00, 49.07batch/s, loss=0.063124]\n"
     ]
    },
    {
     "name": "stdout",
     "output_type": "stream",
     "text": [
      "\t Loss: 7.125,\tTrain : 98.22%,\tTest : 88.50%,\tCurrent Time: 2025-05-25 10:11:39\n"
     ]
    },
    {
     "name": "stderr",
     "output_type": "stream",
     "text": [
      "Epoch 100/100: 100%|████████| 120/120 [00:02<00:00, 49.07batch/s, loss=0.060751]\n"
     ]
    },
    {
     "name": "stdout",
     "output_type": "stream",
     "text": [
      "\t Loss: 6.573,\tTrain : 98.42%,\tTest : 88.66%,\tCurrent Time: 2025-05-25 10:11:43\n",
      "AP_L2_FMNIST_demo_0_0_ Time: 2025-05-25 10:11:43, Epochs: 100, Learning Rate: 0.001, Best: 98.42%  89.04%\n",
      "\n"
     ]
    }
   ],
   "source": [
    "\n",
    "config = Config()\n",
    "\n",
    "##\n",
    "ParaName = f'demo'\n",
    "Einfo = ''\n",
    "res_path = Path(f\"./Test\")\n",
    "\n",
    "\n",
    "# Parameter 1 and 2 can be any parameter in the config\n",
    "## M_range for SR (Fig2c)\n",
    "# M_range = [0.01,0.1,0.25,0.5,0.75,1,1.25,1.5,2]\n",
    "\n",
    "## M_range for number of iterations, ParaRange for SR (Fig3 c)\n",
    "# config.flag_ycz = False # STE\n",
    "# M_range = [2,4,8,16]\n",
    "# ParaRange = [0.01,0.1,0.25,0.5,0.75,1,1.25,1.5,2] \n",
    "\n",
    "M_range = [0] # Parameter 1 \n",
    "ParaRange = [0] # Parameter 2\n",
    "multitest = 1 # Repeat multiple times\n",
    "#\n",
    "res_path.mkdir(parents=True, exist_ok=True)\n",
    "res = np.zeros((len(M_range),len(ParaRange),multitest,4,config.train_n_epochs))\n",
    "\n",
    "for iM in range( len(M_range) ):\n",
    "    for iPara in range( len(ParaRange) ):\n",
    "        for  imultitest in range(multitest):\n",
    "\n",
    "            # config.RNN_t2sta = M_range[iM]\n",
    "            # config.RNN_t2sta2 = M_range[iM]\n",
    "            # config.RNN_SR = ParaRange[iPara]\n",
    "            # .......\n",
    "            \n",
    "            train_loader, test_loader, config = dataset(config)\n",
    "            train_loader_gpu = [(data.to(device), target.to(device)) for data, target in train_loader]\n",
    "            test_loader_gpu = [(data.to(device), target.to(device)) for data, target in test_loader]\n",
    "\n",
    "            model = FRNN_LN(config).to(device)\n",
    "\n",
    "            taskinfo = f'AP_L{config.nL_hidd}_{config.train_task}_{ParaName}_{M_range[iM]}_{ParaRange[iPara]}_{Einfo}'\n",
    "            print(taskinfo)\n",
    "\n",
    "            ###### Train #######\n",
    "            for epoch in range(config.train_n_epochs):\n",
    "                losssum = 0\n",
    "                random.shuffle(train_loader_gpu)\n",
    "                with tqdm(total=len(train_loader_gpu), desc=f'Epoch {epoch + 1}/{config.train_n_epochs}: ', unit='batch', ncols=80, mininterval=1) as pbar:\n",
    "                    for i, (images, labels) in enumerate(train_loader_gpu):\n",
    "                        # data processing\n",
    "                        images = images.view(-1, config.n_input)\n",
    "                        labels_one_hot = one_hot(labels, config.n_out)\n",
    "\n",
    "                        # forward\n",
    "                        outputs = model.forward(images)\n",
    "\n",
    "                        # Calculate loss (cross entropy)\n",
    "                        loss = cross_entropy_loss(outputs, labels_one_hot.to(device))\n",
    "                        loss = loss.to('cpu')\n",
    "                        losssum += loss.item()\n",
    "                        # backp\n",
    "                        outputs = model.backward(images, labels_one_hot, outputs)\n",
    "\n",
    "                        # Update weights\n",
    "                        model.update_weights_adam() #update_weights_adam\n",
    "\n",
    "                        # Update progress bar\n",
    "                        pbar.set_postfix({'loss': f'{losssum/(i+1):.6f}'})  \n",
    "                        pbar.update(1)\n",
    "\n",
    "                train_correct = 0\n",
    "                train_total = 0\n",
    "                losssum = 0\n",
    "                for images, labels in train_loader_gpu:\n",
    "                    images = images.view(-1, config.n_input)\n",
    "                    labels_one_hot = one_hot(labels, config.n_out)\n",
    "                    outputs = model.forward(images)\n",
    "\n",
    "                    _, predicted = torch.max(outputs, 1)\n",
    "                    # predicted = predicted.to('cpu')\n",
    "                    loss = cross_entropy_loss(outputs, labels_one_hot.to(device))\n",
    "                    loss = loss.to('cpu')\n",
    "                    losssum += loss.item()\n",
    "                    train_total += labels.size(0)\n",
    "                    train_correct += (predicted == labels).sum().item()\n",
    "\n",
    "                train_accuracy = train_correct / train_total\n",
    "\n",
    "                test_correct = 0\n",
    "                test_total = 0\n",
    "                y_true = []\n",
    "                y_pred = []\n",
    "                for images, labels in test_loader_gpu:\n",
    "                    images = images.view(-1, config.n_input)\n",
    "                    outputs = model.forward(images)\n",
    "\n",
    "                    _, predicted = torch.max(outputs, 1)\n",
    "                    # predicted = predicted.to('cpu')\n",
    "                    y_true.extend(labels.cpu().numpy())\n",
    "                    y_pred.extend(predicted.cpu().numpy())\n",
    "                    test_total += labels.size(0)\n",
    "                    test_correct += (predicted == labels).sum().item()\n",
    "\n",
    "                test_accuracy = test_correct / test_total\n",
    "\n",
    "                res[iM][iPara][imultitest][0][epoch] = losssum\n",
    "                res[iM][iPara][imultitest][1][epoch] = train_accuracy\n",
    "                res[iM][iPara][imultitest][2][epoch] = test_accuracy\n",
    "\n",
    "                current_time = time.strftime(\"%Y-%m-%d %H:%M:%S\", time.localtime())\n",
    "                print(f'\\t Loss: {res[iM][iPara][imultitest][0][epoch] :.3f},\\t'\n",
    "                    f'Train : {res[iM][iPara][imultitest][1][epoch] * 100:.2f}%,\\t'\n",
    "                    f'Test : {res[iM][iPara][imultitest][2][epoch] * 100:.2f}%,\\t'\n",
    "                    f'Current Time: {current_time}')\n",
    "                \n",
    "                if 1-train_accuracy <1e-4:\n",
    "                    break\n",
    "\n",
    "            # best result\n",
    "            print(f\"{taskinfo} Time: {current_time}, Epochs: {config.train_n_epochs}, Learning Rate: {config.train_eta_global}, \"\n",
    "                f\"Best: {max(res[iM][iPara][imultitest][1]) * 100:.2f}%  {max(res[iM][iPara][imultitest][2]) * 100:.2f}%\\n\")\n",
    "            \n",
    "            \n",
    "            with open(res_path/\"res.txt\", \"a\") as f:\n",
    "                f.write(f\"{taskinfo} Time: {current_time}: \"\n",
    "                        f\"Best: {max(res[iM][iPara][imultitest][1]) * 100:.2f}%  {max(res[iM][iPara][imultitest][2]) * 100:.2f}%\\n\")\n",
    "\n",
    "                for attr_name in dir(config):\n",
    "                    if not attr_name.startswith('__') and not callable(getattr(config, attr_name)):  \n",
    "                        attr_value = getattr(config, attr_name)\n",
    "                        f.write(f'{attr_name}: {attr_value}  ')  \n",
    "                f.write(f'\\n\\n')  \n",
    "\n"
   ]
  },
  {
   "cell_type": "code",
   "execution_count": null,
   "id": "c532f598",
   "metadata": {},
   "outputs": [
    {
     "name": "stdout",
     "output_type": "stream",
     "text": [
      "FMNIST\t_0\t_0\t_TrainAccAve:98.42%_TestAccAve:89.04%\n"
     ]
    },
    {
     "data": {
      "image/png": "[encoded data removed]",
      "text/plain": [
       "<Figure size 1200x300 with 3 Axes>"
      ]
     },
     "metadata": {},
     "output_type": "display_data"
    }
   ],
   "source": [
    "for iM in range( len(M_range) ):\n",
    "    for iPara in range( len(ParaRange) ):        \n",
    "        tt = res[iM][iPara]\n",
    "        tt = np.max(tt[:,2,:], axis= -1)\n",
    "        testacctt = np.mean(tt, axis=0)\n",
    "\n",
    "        tt = res[iM][iPara]\n",
    "        tt = np.max(tt[:,1,:], axis= -1)\n",
    "        trainacctt = np.mean(tt, axis=0)\n",
    "\n",
    "        print(f'{config.train_task}\\t_{M_range[iM]}\\t_{ParaRange[iPara]}\\t_TrainAccAve:{(trainacctt)*100:5.2f}%_TestAccAve:{(testacctt)*100:5.2f}%')\n",
    "\n",
    "\n",
    "index_range = np.arange(len(ParaRange))\n",
    "\n",
    "if len(M_range)>1 and len(ParaRange)>1: \n",
    "    plt.figure(figsize=(6, 3))\n",
    "    for iL in range(len(M_range)):\n",
    "        tres = np.max(res[iL][:,:,:,:], axis=-1)\n",
    "        plt.plot(index_range, np.mean(tres[:,:,2], axis=1), marker='o', label=f'{M_range[iL]}') \n",
    "        plt.fill_between(index_range, np.min(tres[:,:,2], axis=1), np.max(tres[:,:,2], axis=1), alpha=0.2)\n",
    "\n",
    "    plt.xticks(index_range, ParaRange)\n",
    "\n",
    "    plt.title('')\n",
    "    plt.xlabel(f'{ParaName}')\n",
    "    plt.ylabel('Test accuracy')\n",
    "    plt.grid(True)\n",
    "    plt.legend()\n",
    "\n",
    "else: \n",
    "    plt.figure(figsize=(12, 3))\n",
    "    plt.subplot(1,3,1)\n",
    "    for iL in range(len(M_range)):\n",
    "        tres = np.max(res[iL][:,:,:,:], axis=-1)\n",
    "        plt.plot(index_range, np.mean(tres[:,:,2], axis=1), marker='o', label=f'{M_range[iL]}') \n",
    "        plt.fill_between(index_range, np.min(tres[:,:,2], axis=1), np.max(tres[:,:,2], axis=1), alpha=0.2)\n",
    "\n",
    "    plt.xticks(index_range, ParaRange)\n",
    "\n",
    "    plt.title('')\n",
    "    plt.xlabel(f'{ParaName}')\n",
    "    plt.ylabel('Test accuracy')\n",
    "    plt.grid(True)\n",
    "    plt.legend()\n",
    "\n",
    "    for iL in range(len(M_range)):\n",
    "        for iP in range(len(ParaRange)):\n",
    "            for imul in range(multitest):\n",
    "                plt.subplot(1,3,2)\n",
    "                tres = res[iL,iP,imul,0,:]\n",
    "                plt.plot(range(len(tres)), tres, marker='o', label=f'Loss-{M_range[iL]}-{ParaRange[iP]}') \n",
    "                plt.subplot(1,3,3)\n",
    "                tres = res[iL,iP,imul,1,:]\n",
    "                plt.plot(range(len(tres)), tres, marker='p', label=f'Train-{M_range[iL]}-{ParaRange[iP]}') \n",
    "                tres = res[iL,iP,imul,2,:]\n",
    "                plt.plot(range(len(tres)), tres, marker='^', label=f'Test-{M_range[iL]}-{ParaRange[iP]}') \n",
    "\n",
    "    plt.subplot(1,3,2)\n",
    "\n",
    "    plt.title('')\n",
    "    plt.xlabel(f'Epoch')\n",
    "    plt.ylabel('Loss')\n",
    "    plt.grid(True)\n",
    "    plt.legend()\n",
    "\n",
    "    plt.subplot(1,3,3)\n",
    "\n",
    "    plt.title('')\n",
    "    plt.xlabel(f'Epoch')\n",
    "    plt.ylabel('Accuracy')\n",
    "    plt.grid(True)\n",
    "    plt.legend()\n",
    "\n",
    "plt.tight_layout()"
   ]
  }
 ],
 "metadata": {
  "kernelspec": {
   "display_name": "torchgpu",
   "language": "python",
   "name": "python3"
  },
  "language_info": {
   "codemirror_mode": {
    "name": "ipython",
    "version": 3
   },
   "file_extension": ".py",
   "mimetype": "text/x-python",
   "name": "python",
   "nbconvert_exporter": "python",
   "pygments_lexer": "ipython3",
   "version": "3.9.20"
  }
 },
 "nbformat": 4,
 "nbformat_minor": 5
}
